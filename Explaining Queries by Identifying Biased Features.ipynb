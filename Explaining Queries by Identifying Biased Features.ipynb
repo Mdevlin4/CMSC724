{
 "cells": [
  {
   "cell_type": "markdown",
   "metadata": {},
   "source": [
    "# Explanations: Identifying Outliers & Biased Features\n",
    "\n",
    "By identifying features that heavily influence the data, we can identify which features we should look at to explain unexpected query answers. \n",
    "\n",
    "We use the Awards dataset referenced in our paper to explain the following query, which retrieves the 10 Universities that have received the most award money in the area of Computer Science for 2017:\n",
    "```sql\n",
    "SELECT B.instName, sum(A.amount) AS totalAward\n",
    "FROM Award AS A \n",
    "INNER JOIN Institution AS B ON A.aid = B.aid\n",
    "WHERE A.dir = 'CISE' and A.year = 2017\n",
    "GROUP BY B.instName\n",
    "ORDER BY totalAward DESC\n",
    "LIMIT 10\n",
    "```\n",
    "Dataset Link: https://www.nsf.gov/awardsearch/download.jsp\n",
    "\n",
    "### Import & Connect to MLDB"
   ]
  },
  {
   "cell_type": "code",
   "execution_count": 2,
   "metadata": {
    "collapsed": true
   },
   "outputs": [],
   "source": [
    "import pymldb\n",
    "mldb = pymldb.Connection()"
   ]
  },
  {
   "cell_type": "markdown",
   "metadata": {},
   "source": [
    "## Importing the data\n",
    "The datasets are available from our Github and Google Drive. We parsed the XML data provided by NFS to generate the tables."
   ]
  },
  {
   "cell_type": "code",
   "execution_count": 3,
   "metadata": {
    "collapsed": false
   },
   "outputs": [
    {
     "name": "stdout",
     "output_type": "stream",
     "text": [
      "<Response [201]>\n",
      "<Response [201]>\n"
     ]
    }
   ],
   "source": [
    "print mldb.put('/v1/procedures/_', {\n",
    "    'type': 'import.text',\n",
    "    'params': {\n",
    "        'dataFileUrl':\n",
    "            'https://raw.githubusercontent.com/Mdevlin4/CMSC724/master/Award.csv',\n",
    "        'outputDataset': 'Award',\n",
    "        'delimiter': ','\n",
    "        }\n",
    "    })\n",
    "print mldb.put('/v1/procedures/_', {\n",
    "    'type': 'import.text',\n",
    "    'params': {\n",
    "        'dataFileUrl':\n",
    "            'https://raw.githubusercontent.com/Mdevlin4/CMSC724/master/Institution.csv',\n",
    "        'outputDataset': 'Institution',\n",
    "        'delimiter': ','\n",
    "        }\n",
    "    })"
   ]
  },
  {
   "cell_type": "markdown",
   "metadata": {},
   "source": [
    "### Executing the Example Query "
   ]
  },
  {
   "cell_type": "code",
   "execution_count": 4,
   "metadata": {
    "collapsed": false
   },
   "outputs": [
    {
     "data": {
      "text/html": [
       "<div>\n",
       "<table border=\"1\" class=\"dataframe\">\n",
       "  <thead>\n",
       "    <tr style=\"text-align: right;\">\n",
       "      <th></th>\n",
       "      <th>B.instName</th>\n",
       "      <th>totalAward</th>\n",
       "    </tr>\n",
       "    <tr>\n",
       "      <th>_rowName</th>\n",
       "      <th></th>\n",
       "      <th></th>\n",
       "    </tr>\n",
       "  </thead>\n",
       "  <tbody>\n",
       "    <tr>\n",
       "      <th>\"[\"\"Clemson University\"\"]\"</th>\n",
       "      <td>Clemson University</td>\n",
       "      <td>4425039</td>\n",
       "    </tr>\n",
       "    <tr>\n",
       "      <th>\"[\"\"University of North Carolina at Chapel Hill\"\"]\"</th>\n",
       "      <td>University of North Carolina at Chapel Hill</td>\n",
       "      <td>3619587</td>\n",
       "    </tr>\n",
       "    <tr>\n",
       "      <th>\"[\"\"SUNY at Buffalo\"\"]\"</th>\n",
       "      <td>SUNY at Buffalo</td>\n",
       "      <td>3162942</td>\n",
       "    </tr>\n",
       "    <tr>\n",
       "      <th>\"[\"\"University of Wisconsin-Madison\"\"]\"</th>\n",
       "      <td>University of Wisconsin-Madison</td>\n",
       "      <td>3102391</td>\n",
       "    </tr>\n",
       "    <tr>\n",
       "      <th>\"[\"\"University of Colorado at Boulder\"\"]\"</th>\n",
       "      <td>University of Colorado at Boulder</td>\n",
       "      <td>3024814</td>\n",
       "    </tr>\n",
       "    <tr>\n",
       "      <th>\"[\"\"Cornell University\"\"]\"</th>\n",
       "      <td>Cornell University</td>\n",
       "      <td>2861738</td>\n",
       "    </tr>\n",
       "    <tr>\n",
       "      <th>\"[\"\"University of Illinois at Urbana-Champaign\"\"]\"</th>\n",
       "      <td>University of Illinois at Urbana-Champaign</td>\n",
       "      <td>2838857</td>\n",
       "    </tr>\n",
       "    <tr>\n",
       "      <th>\"[\"\"Arizona State University\"\"]\"</th>\n",
       "      <td>Arizona State University</td>\n",
       "      <td>2744283</td>\n",
       "    </tr>\n",
       "    <tr>\n",
       "      <th>\"[\"\"Carnegie-Mellon University\"\"]\"</th>\n",
       "      <td>Carnegie-Mellon University</td>\n",
       "      <td>2661297</td>\n",
       "    </tr>\n",
       "    <tr>\n",
       "      <th>\"[\"\"US Ignite, Inc.\"\"]\"</th>\n",
       "      <td>US Ignite, Inc.</td>\n",
       "      <td>2655164</td>\n",
       "    </tr>\n",
       "  </tbody>\n",
       "</table>\n",
       "</div>"
      ],
      "text/plain": [
       "                                                                                     B.instName  \\\n",
       "_rowName                                                                                          \n",
       "\"[\"\"Clemson University\"\"]\"                                                   Clemson University   \n",
       "\"[\"\"University of North Carolina at Chapel Hill...  University of North Carolina at Chapel Hill   \n",
       "\"[\"\"SUNY at Buffalo\"\"]\"                                                         SUNY at Buffalo   \n",
       "\"[\"\"University of Wisconsin-Madison\"\"]\"                         University of Wisconsin-Madison   \n",
       "\"[\"\"University of Colorado at Boulder\"\"]\"                     University of Colorado at Boulder   \n",
       "\"[\"\"Cornell University\"\"]\"                                                   Cornell University   \n",
       "\"[\"\"University of Illinois at Urbana-Champaign\"\"]\"   University of Illinois at Urbana-Champaign   \n",
       "\"[\"\"Arizona State University\"\"]\"                                       Arizona State University   \n",
       "\"[\"\"Carnegie-Mellon University\"\"]\"                                   Carnegie-Mellon University   \n",
       "\"[\"\"US Ignite, Inc.\"\"]\"                                                         US Ignite, Inc.   \n",
       "\n",
       "                                                    totalAward  \n",
       "_rowName                                                        \n",
       "\"[\"\"Clemson University\"\"]\"                             4425039  \n",
       "\"[\"\"University of North Carolina at Chapel Hill...     3619587  \n",
       "\"[\"\"SUNY at Buffalo\"\"]\"                                3162942  \n",
       "\"[\"\"University of Wisconsin-Madison\"\"]\"                3102391  \n",
       "\"[\"\"University of Colorado at Boulder\"\"]\"              3024814  \n",
       "\"[\"\"Cornell University\"\"]\"                             2861738  \n",
       "\"[\"\"University of Illinois at Urbana-Champaign\"\"]\"     2838857  \n",
       "\"[\"\"Arizona State University\"\"]\"                       2744283  \n",
       "\"[\"\"Carnegie-Mellon University\"\"]\"                     2661297  \n",
       "\"[\"\"US Ignite, Inc.\"\"]\"                                2655164  "
      ]
     },
     "execution_count": 4,
     "metadata": {},
     "output_type": "execute_result"
    }
   ],
   "source": [
    "mldb.query(\"\"\"\n",
    "SELECT B.instName, sum(A.amount) AS totalAward\n",
    "FROM Award AS A \n",
    "INNER JOIN Institution AS B ON A.aid = B.aid\n",
    "WHERE A.dir = 'CISE' and A.year = 2017\n",
    "GROUP BY B.instName\n",
    "ORDER BY totalAward DESC\n",
    "LIMIT 10\n",
    "\"\"\")"
   ]
  },
  {
   "cell_type": "markdown",
   "metadata": {},
   "source": [
    "### Labeling Elements based on Attributes\n",
    "In our example query, we are retrieving the 10 Institutions with the most Total Award Money. So to generate training data for our machine learning model, we will label the data based on its \"amount\" attribute. The following query assigns a label of [1] to Awards with an amount greater than the average Award amount, and [0] otherwise. This will allow us to train our model based on the Awards that have the most impact on the total amount."
   ]
  },
  {
   "cell_type": "code",
   "execution_count": 5,
   "metadata": {
    "collapsed": false,
    "scrolled": true
   },
   "outputs": [
    {
     "data": {
      "text/html": [
       "<div>\n",
       "<table border=\"1\" class=\"dataframe\">\n",
       "  <thead>\n",
       "    <tr style=\"text-align: right;\">\n",
       "      <th></th>\n",
       "      <th>aboveAvg</th>\n",
       "      <th>aid</th>\n",
       "      <th>amount</th>\n",
       "      <th>dir</th>\n",
       "      <th>div</th>\n",
       "      <th>enddate</th>\n",
       "      <th>startdate</th>\n",
       "      <th>title</th>\n",
       "      <th>year</th>\n",
       "    </tr>\n",
       "    <tr>\n",
       "      <th>_rowName</th>\n",
       "      <th></th>\n",
       "      <th></th>\n",
       "      <th></th>\n",
       "      <th></th>\n",
       "      <th></th>\n",
       "      <th></th>\n",
       "      <th></th>\n",
       "      <th></th>\n",
       "      <th></th>\n",
       "    </tr>\n",
       "  </thead>\n",
       "  <tbody>\n",
       "    <tr>\n",
       "      <th>[2]-[[]]</th>\n",
       "      <td>0</td>\n",
       "      <td>1600011</td>\n",
       "      <td>122453</td>\n",
       "      <td>MPS</td>\n",
       "      <td>MS</td>\n",
       "      <td>0</td>\n",
       "      <td>0</td>\n",
       "      <td>Non-Archimedean Techniques in Analysis, Dynami...</td>\n",
       "      <td>2016</td>\n",
       "    </tr>\n",
       "    <tr>\n",
       "      <th>[3]-[[]]</th>\n",
       "      <td>1</td>\n",
       "      <td>1600012</td>\n",
       "      <td>1996139</td>\n",
       "      <td>GEO</td>\n",
       "      <td>OS</td>\n",
       "      <td>0</td>\n",
       "      <td>0</td>\n",
       "      <td>Coastal SEES: Enhancing sustainability in coas...</td>\n",
       "      <td>2016</td>\n",
       "    </tr>\n",
       "    <tr>\n",
       "      <th>[4]-[[]]</th>\n",
       "      <td>0</td>\n",
       "      <td>1600014</td>\n",
       "      <td>10500</td>\n",
       "      <td>MPS</td>\n",
       "      <td>MS</td>\n",
       "      <td>0</td>\n",
       "      <td>0</td>\n",
       "      <td>Conference: Evolution Equations on Singular Sp...</td>\n",
       "      <td>2016</td>\n",
       "    </tr>\n",
       "    <tr>\n",
       "      <th>[5]-[[]]</th>\n",
       "      <td>0</td>\n",
       "      <td>1600016</td>\n",
       "      <td>83117</td>\n",
       "      <td>ENG</td>\n",
       "      <td>CBETS</td>\n",
       "      <td>0</td>\n",
       "      <td>0</td>\n",
       "      <td>Rapid proposal: Fires and floods: Acquisition ...</td>\n",
       "      <td>2015</td>\n",
       "    </tr>\n",
       "    <tr>\n",
       "      <th>[6]-[[]]</th>\n",
       "      <td>0</td>\n",
       "      <td>1600017</td>\n",
       "      <td>50000</td>\n",
       "      <td>ENG</td>\n",
       "      <td>IIP</td>\n",
       "      <td>0</td>\n",
       "      <td>0</td>\n",
       "      <td>I-Corps: A Tissue-engineered Nipple-Areolar Co...</td>\n",
       "      <td>2015</td>\n",
       "    </tr>\n",
       "    <tr>\n",
       "      <th>[7]-[[]]</th>\n",
       "      <td>0</td>\n",
       "      <td>1600018</td>\n",
       "      <td>185436</td>\n",
       "      <td>GEO</td>\n",
       "      <td>AGS</td>\n",
       "      <td>0</td>\n",
       "      <td>0</td>\n",
       "      <td>Collaborative Research: P2C2--Ultra-High-Resol...</td>\n",
       "      <td>2016</td>\n",
       "    </tr>\n",
       "    <tr>\n",
       "      <th>[8]-[[]]</th>\n",
       "      <td>0</td>\n",
       "      <td>1600023</td>\n",
       "      <td>180000</td>\n",
       "      <td>MPS</td>\n",
       "      <td>MS</td>\n",
       "      <td>0</td>\n",
       "      <td>0</td>\n",
       "      <td>Linear Partial Differential Equations on Singu...</td>\n",
       "      <td>2016</td>\n",
       "    </tr>\n",
       "    <tr>\n",
       "      <th>[9]-[[]]</th>\n",
       "      <td>0</td>\n",
       "      <td>1600024</td>\n",
       "      <td>130476</td>\n",
       "      <td>MPS</td>\n",
       "      <td>MS</td>\n",
       "      <td>0</td>\n",
       "      <td>0</td>\n",
       "      <td>The Regularity of Cauchy-Riemann Mappings and ...</td>\n",
       "      <td>2016</td>\n",
       "    </tr>\n",
       "    <tr>\n",
       "      <th>[10]-[[]]</th>\n",
       "      <td>0</td>\n",
       "      <td>1600028</td>\n",
       "      <td>73000</td>\n",
       "      <td>MPS</td>\n",
       "      <td>MS</td>\n",
       "      <td>0</td>\n",
       "      <td>0</td>\n",
       "      <td>Long Term Regularity of Solutions of Fluid Models</td>\n",
       "      <td>2016</td>\n",
       "    </tr>\n",
       "    <tr>\n",
       "      <th>[11]-[[]]</th>\n",
       "      <td>0</td>\n",
       "      <td>1600032</td>\n",
       "      <td>158004</td>\n",
       "      <td>MPS</td>\n",
       "      <td>MS</td>\n",
       "      <td>0</td>\n",
       "      <td>0</td>\n",
       "      <td>New Methods in Tensor Triangular Geometry</td>\n",
       "      <td>2016</td>\n",
       "    </tr>\n",
       "  </tbody>\n",
       "</table>\n",
       "</div>"
      ],
      "text/plain": [
       "           aboveAvg      aid   amount  dir    div  enddate  startdate  \\\n",
       "_rowName                                                                \n",
       "[2]-[[]]          0  1600011   122453  MPS     MS        0          0   \n",
       "[3]-[[]]          1  1600012  1996139  GEO     OS        0          0   \n",
       "[4]-[[]]          0  1600014    10500  MPS     MS        0          0   \n",
       "[5]-[[]]          0  1600016    83117  ENG  CBETS        0          0   \n",
       "[6]-[[]]          0  1600017    50000  ENG    IIP        0          0   \n",
       "[7]-[[]]          0  1600018   185436  GEO    AGS        0          0   \n",
       "[8]-[[]]          0  1600023   180000  MPS     MS        0          0   \n",
       "[9]-[[]]          0  1600024   130476  MPS     MS        0          0   \n",
       "[10]-[[]]         0  1600028    73000  MPS     MS        0          0   \n",
       "[11]-[[]]         0  1600032   158004  MPS     MS        0          0   \n",
       "\n",
       "                                                       title  year  \n",
       "_rowName                                                            \n",
       "[2]-[[]]   Non-Archimedean Techniques in Analysis, Dynami...  2016  \n",
       "[3]-[[]]   Coastal SEES: Enhancing sustainability in coas...  2016  \n",
       "[4]-[[]]   Conference: Evolution Equations on Singular Sp...  2016  \n",
       "[5]-[[]]   Rapid proposal: Fires and floods: Acquisition ...  2015  \n",
       "[6]-[[]]   I-Corps: A Tissue-engineered Nipple-Areolar Co...  2015  \n",
       "[7]-[[]]   Collaborative Research: P2C2--Ultra-High-Resol...  2016  \n",
       "[8]-[[]]   Linear Partial Differential Equations on Singu...  2016  \n",
       "[9]-[[]]   The Regularity of Cauchy-Riemann Mappings and ...  2016  \n",
       "[10]-[[]]  Long Term Regularity of Solutions of Fluid Models  2016  \n",
       "[11]-[[]]          New Methods in Tensor Triangular Geometry  2016  "
      ]
     },
     "execution_count": 5,
     "metadata": {},
     "output_type": "execute_result"
    }
   ],
   "source": [
    "mldb.query(\"\"\"\n",
    "SELECT Award.* AS *, Award.amount > amtavg AS aboveAvg \n",
    "FROM Award INNER JOIN (\n",
    "    SELECT avg(amount) AS amtavg\n",
    "    FROM Award\n",
    ") LIMIT 10\n",
    "\"\"\")"
   ]
  },
  {
   "cell_type": "markdown",
   "metadata": {},
   "source": [
    "### Training a Model using Award Amount\n",
    "We divide our dataset into two sets: one set for training our model and one set for testing our model. We randomly select 75% of the dataset to use for training our model, keeping the other 25% for testing."
   ]
  },
  {
   "cell_type": "code",
   "execution_count": 6,
   "metadata": {
    "collapsed": false
   },
   "outputs": [
    {
     "name": "stdout",
     "output_type": "stream",
     "text": [
      "<Response [201]>\n"
     ]
    }
   ],
   "source": [
    "print mldb.put('/v1/procedures/_', {\n",
    "    'type': 'classifier.train',\n",
    "    'params': {\n",
    "        'trainingData': \"\"\"\n",
    "            SELECT {* EXCLUDING (amount, aboveAvg)} AS features,\n",
    "                   aboveAvg AS label FROM (\n",
    "                SELECT Award.* AS *, Award.amount > amtavg AS aboveAvg FROM Award \n",
    "                INNER JOIN (\n",
    "                    SELECT avg(amount) AS amtavg\n",
    "                    FROM Award\n",
    "                )\n",
    "            ) WHERE rowHash() % 4 != 0\n",
    "            \"\"\",\n",
    "        'modelFileUrl': 'file://award_model.cls',\n",
    "        'algorithm': 'bbdt',\n",
    "        'functionName': 'score',\n",
    "        'mode': 'boolean'\n",
    "        }\n",
    "    })"
   ]
  },
  {
   "cell_type": "markdown",
   "metadata": {},
   "source": [
    "TODO: This creates a [`classifier`][1] function named \"score\" that we can use on examples from our test set. The higher the score, the more likely the feature is relevant. We can try it on examples from our test set.\n",
    "\n",
    "[1]: ../../../../doc/#builtin/functions/ClassifierApply.md.html"
   ]
  },
  {
   "cell_type": "code",
   "execution_count": 7,
   "metadata": {
    "collapsed": false,
    "scrolled": true
   },
   "outputs": [
    {
     "data": {
      "text/html": [
       "<div>\n",
       "<table border=\"1\" class=\"dataframe\">\n",
       "  <thead>\n",
       "    <tr style=\"text-align: right;\">\n",
       "      <th></th>\n",
       "      <th>score</th>\n",
       "    </tr>\n",
       "    <tr>\n",
       "      <th>_rowName</th>\n",
       "      <th></th>\n",
       "    </tr>\n",
       "  </thead>\n",
       "  <tbody>\n",
       "    <tr>\n",
       "      <th>[2]-[[]]</th>\n",
       "      <td>-2.041656</td>\n",
       "    </tr>\n",
       "    <tr>\n",
       "      <th>[5]-[[]]</th>\n",
       "      <td>-0.768587</td>\n",
       "    </tr>\n",
       "    <tr>\n",
       "      <th>[7]-[[]]</th>\n",
       "      <td>-0.429806</td>\n",
       "    </tr>\n",
       "    <tr>\n",
       "      <th>[8]-[[]]</th>\n",
       "      <td>-2.041656</td>\n",
       "    </tr>\n",
       "    <tr>\n",
       "      <th>[11]-[[]]</th>\n",
       "      <td>-2.041656</td>\n",
       "    </tr>\n",
       "    <tr>\n",
       "      <th>[16]-[[]]</th>\n",
       "      <td>-0.076850</td>\n",
       "    </tr>\n",
       "    <tr>\n",
       "      <th>[18]-[[]]</th>\n",
       "      <td>-0.435151</td>\n",
       "    </tr>\n",
       "    <tr>\n",
       "      <th>[29]-[[]]</th>\n",
       "      <td>-0.277778</td>\n",
       "    </tr>\n",
       "    <tr>\n",
       "      <th>[31]-[[]]</th>\n",
       "      <td>-2.041656</td>\n",
       "    </tr>\n",
       "    <tr>\n",
       "      <th>[34]-[[]]</th>\n",
       "      <td>-0.169184</td>\n",
       "    </tr>\n",
       "  </tbody>\n",
       "</table>\n",
       "</div>"
      ],
      "text/plain": [
       "              score\n",
       "_rowName           \n",
       "[2]-[[]]  -2.041656\n",
       "[5]-[[]]  -0.768587\n",
       "[7]-[[]]  -0.429806\n",
       "[8]-[[]]  -2.041656\n",
       "[11]-[[]] -2.041656\n",
       "[16]-[[]] -0.076850\n",
       "[18]-[[]] -0.435151\n",
       "[29]-[[]] -0.277778\n",
       "[31]-[[]] -2.041656\n",
       "[34]-[[]] -0.169184"
      ]
     },
     "execution_count": 7,
     "metadata": {},
     "output_type": "execute_result"
    }
   ],
   "source": [
    "mldb.query(\"\"\"\n",
    "SELECT score({features: {* EXCLUDING (amount, aboveAvg)}}) AS *\n",
    "FROM (\n",
    "    SELECT Award.* AS *, Award.amount > amtavg AS aboveAvg \n",
    "    FROM Award INNER JOIN (\n",
    "        SELECT avg(amount) AS amtavg\n",
    "        FROM Award\n",
    "    )\n",
    ")\n",
    "WHERE rowHash() % 4 = 0\n",
    "LIMIT 10\n",
    "\"\"\")"
   ]
  },
  {
   "cell_type": "markdown",
   "metadata": {},
   "source": [
    "Now let's see how well our model does on the 25% of the data we didn't train on and get a feel of how good it should perform in real life."
   ]
  },
  {
   "cell_type": "code",
   "execution_count": 8,
   "metadata": {
    "collapsed": false,
    "scrolled": true
   },
   "outputs": [
    {
     "data": {
      "text/html": [
       "<strong>PUT http://localhost/v1/procedures/_</strong><br /><strong style=\"color: green;\">201 Created</strong><br /> <div class=\"highlight\"><pre style=\"line-height: 125%\"><span></span>{\n",
       "  <span style=\"color: #333333; font-weight: bold\">&quot;status&quot;</span>: {\n",
       "    <span style=\"color: #333333; font-weight: bold\">&quot;firstRun&quot;</span>: {\n",
       "      <span style=\"color: #333333; font-weight: bold\">&quot;runStarted&quot;</span>: <span style=\"color: #0000dd\">&quot;2017-05-13T22:04:14.601635Z&quot;</span>, \n",
       "      <span style=\"color: #333333; font-weight: bold\">&quot;status&quot;</span>: {\n",
       "        <span style=\"color: #333333; font-weight: bold\">&quot;auc&quot;</span>: <span style=\"color: #0000dd\">0.8081675915567786</span>, \n",
       "        <span style=\"color: #333333; font-weight: bold\">&quot;bestMcc&quot;</span>: {\n",
       "          <span style=\"color: #333333; font-weight: bold\">&quot;pr&quot;</span>: {\n",
       "            <span style=\"color: #333333; font-weight: bold\">&quot;recall&quot;</span>: <span style=\"color: #0000dd\">0.8055248618784531</span>, \n",
       "            <span style=\"color: #333333; font-weight: bold\">&quot;f1Score&quot;</span>: <span style=\"color: #0000dd\">0.6241438356164384</span>, \n",
       "            <span style=\"color: #333333; font-weight: bold\">&quot;precision&quot;</span>: <span style=\"color: #0000dd\">0.5094339622641509</span>, \n",
       "            <span style=\"color: #333333; font-weight: bold\">&quot;accuracy&quot;</span>: <span style=\"color: #0000dd\">0.7223276407337128</span>\n",
       "          }, \n",
       "          <span style=\"color: #333333; font-weight: bold\">&quot;mcc&quot;</span>: <span style=\"color: #0000dd\">0.4490362922434156</span>, \n",
       "          <span style=\"color: #333333; font-weight: bold\">&quot;gain&quot;</span>: <span style=\"color: #0000dd\">1.779922860419056</span>, \n",
       "          <span style=\"color: #333333; font-weight: bold\">&quot;threshold&quot;</span>: <span style=\"color: #0000dd\">-0.230148509144783</span>, \n",
       "          <span style=\"color: #333333; font-weight: bold\">&quot;counts&quot;</span>: {\n",
       "            <span style=\"color: #333333; font-weight: bold\">&quot;falseNegatives&quot;</span>: <span style=\"color: #0000dd\">176.0</span>, \n",
       "            <span style=\"color: #333333; font-weight: bold\">&quot;truePositives&quot;</span>: <span style=\"color: #0000dd\">729.0</span>, \n",
       "            <span style=\"color: #333333; font-weight: bold\">&quot;trueNegatives&quot;</span>: <span style=\"color: #0000dd\">1555.0</span>, \n",
       "            <span style=\"color: #333333; font-weight: bold\">&quot;falsePositives&quot;</span>: <span style=\"color: #0000dd\">702.0</span>\n",
       "          }, \n",
       "          <span style=\"color: #333333; font-weight: bold\">&quot;population&quot;</span>: {\n",
       "            <span style=\"color: #333333; font-weight: bold\">&quot;included&quot;</span>: <span style=\"color: #0000dd\">1431.0</span>, \n",
       "            <span style=\"color: #333333; font-weight: bold\">&quot;excluded&quot;</span>: <span style=\"color: #0000dd\">1731.0</span>\n",
       "          }\n",
       "        }, \n",
       "        <span style=\"color: #333333; font-weight: bold\">&quot;bestF1Score&quot;</span>: {\n",
       "          <span style=\"color: #333333; font-weight: bold\">&quot;pr&quot;</span>: {\n",
       "            <span style=\"color: #333333; font-weight: bold\">&quot;recall&quot;</span>: <span style=\"color: #0000dd\">0.8055248618784531</span>, \n",
       "            <span style=\"color: #333333; font-weight: bold\">&quot;f1Score&quot;</span>: <span style=\"color: #0000dd\">0.6241438356164384</span>, \n",
       "            <span style=\"color: #333333; font-weight: bold\">&quot;precision&quot;</span>: <span style=\"color: #0000dd\">0.5094339622641509</span>, \n",
       "            <span style=\"color: #333333; font-weight: bold\">&quot;accuracy&quot;</span>: <span style=\"color: #0000dd\">0.7223276407337128</span>\n",
       "          }, \n",
       "          <span style=\"color: #333333; font-weight: bold\">&quot;mcc&quot;</span>: <span style=\"color: #0000dd\">0.4490362922434156</span>, \n",
       "          <span style=\"color: #333333; font-weight: bold\">&quot;gain&quot;</span>: <span style=\"color: #0000dd\">1.779922860419056</span>, \n",
       "          <span style=\"color: #333333; font-weight: bold\">&quot;threshold&quot;</span>: <span style=\"color: #0000dd\">-0.230148509144783</span>, \n",
       "          <span style=\"color: #333333; font-weight: bold\">&quot;counts&quot;</span>: {\n",
       "            <span style=\"color: #333333; font-weight: bold\">&quot;falseNegatives&quot;</span>: <span style=\"color: #0000dd\">176.0</span>, \n",
       "            <span style=\"color: #333333; font-weight: bold\">&quot;truePositives&quot;</span>: <span style=\"color: #0000dd\">729.0</span>, \n",
       "            <span style=\"color: #333333; font-weight: bold\">&quot;trueNegatives&quot;</span>: <span style=\"color: #0000dd\">1555.0</span>, \n",
       "            <span style=\"color: #333333; font-weight: bold\">&quot;falsePositives&quot;</span>: <span style=\"color: #0000dd\">702.0</span>\n",
       "          }, \n",
       "          <span style=\"color: #333333; font-weight: bold\">&quot;population&quot;</span>: {\n",
       "            <span style=\"color: #333333; font-weight: bold\">&quot;included&quot;</span>: <span style=\"color: #0000dd\">1431.0</span>, \n",
       "            <span style=\"color: #333333; font-weight: bold\">&quot;excluded&quot;</span>: <span style=\"color: #0000dd\">1731.0</span>\n",
       "          }\n",
       "        }\n",
       "      }, \n",
       "      <span style=\"color: #333333; font-weight: bold\">&quot;runFinished&quot;</span>: <span style=\"color: #0000dd\">&quot;2017-05-13T22:04:14.9031086Z&quot;</span>, \n",
       "      <span style=\"color: #333333; font-weight: bold\">&quot;id&quot;</span>: <span style=\"color: #0000dd\">&quot;2017-05-13T22:04:14.601569Z-463496b56263af05&quot;</span>, \n",
       "      <span style=\"color: #333333; font-weight: bold\">&quot;state&quot;</span>: <span style=\"color: #0000dd\">&quot;finished&quot;</span>\n",
       "    }\n",
       "  }, \n",
       "  <span style=\"color: #333333; font-weight: bold\">&quot;config&quot;</span>: {\n",
       "    <span style=\"color: #333333; font-weight: bold\">&quot;params&quot;</span>: {\n",
       "      <span style=\"color: #333333; font-weight: bold\">&quot;outputDataset&quot;</span>: <span style=\"color: #0000dd\">&quot;award_test&quot;</span>, \n",
       "      <span style=\"color: #333333; font-weight: bold\">&quot;mode&quot;</span>: <span style=\"color: #0000dd\">&quot;boolean&quot;</span>, \n",
       "      <span style=\"color: #333333; font-weight: bold\">&quot;testingData&quot;</span>: <span style=\"color: #0000dd\">&quot;\\n            SELECT score: score({features: {* EXCLUDING (amount,aboveAvg)}})[score], label: aboveAvg\\n            FROM (\\n                SELECT Award.* AS *, Award.amount &gt; amtavg AS aboveAvg FROM Award \\n                INNER JOIN (\\n                    SELECT avg(amount) AS amtavg\\n                    FROM Award\\n                )\\n            ) \\n            WHERE rowHash() % 4 = 0\\n            &quot;</span>\n",
       "    }, \n",
       "    <span style=\"color: #333333; font-weight: bold\">&quot;type&quot;</span>: <span style=\"color: #0000dd\">&quot;classifier.test&quot;</span>, \n",
       "    <span style=\"color: #333333; font-weight: bold\">&quot;id&quot;</span>: <span style=\"color: #0000dd\">&quot;_&quot;</span>\n",
       "  }, \n",
       "  <span style=\"color: #333333; font-weight: bold\">&quot;state&quot;</span>: <span style=\"color: #0000dd\">&quot;ok&quot;</span>, \n",
       "  <span style=\"color: #333333; font-weight: bold\">&quot;type&quot;</span>: <span style=\"color: #0000dd\">&quot;classifier.test&quot;</span>, \n",
       "  <span style=\"color: #333333; font-weight: bold\">&quot;id&quot;</span>: <span style=\"color: #0000dd\">&quot;_&quot;</span>\n",
       "}\n",
       "</pre></div>\n"
      ],
      "text/plain": [
       "<Response [201]>"
      ]
     },
     "execution_count": 8,
     "metadata": {},
     "output_type": "execute_result"
    }
   ],
   "source": [
    "mldb.put('/v1/procedures/_', {\n",
    "    'type': 'classifier.test',\n",
    "    'params': {\n",
    "        'testingData': \"\"\"\n",
    "            SELECT score: score({features: {* EXCLUDING (amount,aboveAvg)}})[score], label: aboveAvg\n",
    "            FROM (\n",
    "                SELECT Award.* AS *, Award.amount > amtavg AS aboveAvg FROM Award \n",
    "                INNER JOIN (\n",
    "                    SELECT avg(amount) AS amtavg\n",
    "                    FROM Award\n",
    "                )\n",
    "            ) \n",
    "            WHERE rowHash() % 4 = 0\n",
    "            \"\"\",\n",
    "        'outputDataset': 'award_test',\n",
    "        'mode': 'boolean'\n",
    "        }\n",
    "    })"
   ]
  },
  {
   "cell_type": "markdown",
   "metadata": {},
   "source": [
    "TODO: As we can see by inspecting the different statistics returned by the classifier.test procedure, that model seems to be doing pretty good! The AUC is 0.95: let's ship this thing in production right now! ... Or let's be cautious!\n",
    "\n",
    "To understand what's going on, let's use the [`classifier.explain` function][1]. This will give us an idea of how much each feature helps (or hurts) in making the predictions.\n",
    "\n",
    "[1]: ../../../../doc/#builtin/functions/ClassifierExplain.md.html"
   ]
  },
  {
   "cell_type": "code",
   "execution_count": 9,
   "metadata": {
    "collapsed": false,
    "scrolled": true
   },
   "outputs": [
    {
     "name": "stdout",
     "output_type": "stream",
     "text": [
      "<Response [201]>\n"
     ]
    }
   ],
   "source": [
    "print mldb.put('/v1/functions/explain', {\n",
    "    'type': 'classifier.explain',\n",
    "    'params': {\n",
    "        'modelFileUrl': 'file://award_model.cls'\n",
    "        }\n",
    "    })"
   ]
  },
  {
   "cell_type": "markdown",
   "metadata": {},
   "source": [
    "TODO: You can \"explain\" every single example, and know how much each feature influences the final score, like this:"
   ]
  },
  {
   "cell_type": "code",
   "execution_count": 10,
   "metadata": {
    "collapsed": false,
    "scrolled": false
   },
   "outputs": [
    {
     "data": {
      "text/html": [
       "<div>\n",
       "<table border=\"1\" class=\"dataframe\">\n",
       "  <thead>\n",
       "    <tr style=\"text-align: right;\">\n",
       "      <th></th>\n",
       "      <th>bias</th>\n",
       "      <th>explanation.aid</th>\n",
       "      <th>explanation.dir</th>\n",
       "      <th>explanation.div</th>\n",
       "      <th>explanation.title</th>\n",
       "      <th>explanation.year</th>\n",
       "    </tr>\n",
       "    <tr>\n",
       "      <th>_rowName</th>\n",
       "      <th></th>\n",
       "      <th></th>\n",
       "      <th></th>\n",
       "      <th></th>\n",
       "      <th></th>\n",
       "      <th></th>\n",
       "    </tr>\n",
       "  </thead>\n",
       "  <tbody>\n",
       "    <tr>\n",
       "      <th>[2]-[[]]</th>\n",
       "      <td>-0.030529</td>\n",
       "      <td>0.518014</td>\n",
       "      <td>0.190778</td>\n",
       "      <td>1.331558</td>\n",
       "      <td>0.048720</td>\n",
       "      <td>-0.016885</td>\n",
       "    </tr>\n",
       "    <tr>\n",
       "      <th>[5]-[[]]</th>\n",
       "      <td>-0.030529</td>\n",
       "      <td>0.256754</td>\n",
       "      <td>0.303620</td>\n",
       "      <td>0.065486</td>\n",
       "      <td>0.044316</td>\n",
       "      <td>0.128941</td>\n",
       "    </tr>\n",
       "    <tr>\n",
       "      <th>[7]-[[]]</th>\n",
       "      <td>-0.030529</td>\n",
       "      <td>0.244593</td>\n",
       "      <td>-0.068111</td>\n",
       "      <td>0.236052</td>\n",
       "      <td>0.044316</td>\n",
       "      <td>0.003485</td>\n",
       "    </tr>\n",
       "    <tr>\n",
       "      <th>[8]-[[]]</th>\n",
       "      <td>-0.030529</td>\n",
       "      <td>0.518014</td>\n",
       "      <td>0.190778</td>\n",
       "      <td>1.331558</td>\n",
       "      <td>0.048720</td>\n",
       "      <td>-0.016885</td>\n",
       "    </tr>\n",
       "    <tr>\n",
       "      <th>[11]-[[]]</th>\n",
       "      <td>-0.030529</td>\n",
       "      <td>0.518014</td>\n",
       "      <td>0.190778</td>\n",
       "      <td>1.331558</td>\n",
       "      <td>0.048720</td>\n",
       "      <td>-0.016885</td>\n",
       "    </tr>\n",
       "    <tr>\n",
       "      <th>[16]-[[]]</th>\n",
       "      <td>-0.030529</td>\n",
       "      <td>0.336294</td>\n",
       "      <td>-0.072483</td>\n",
       "      <td>-0.003304</td>\n",
       "      <td>-0.156613</td>\n",
       "      <td>0.003485</td>\n",
       "    </tr>\n",
       "    <tr>\n",
       "      <th>[18]-[[]]</th>\n",
       "      <td>-0.030529</td>\n",
       "      <td>0.256754</td>\n",
       "      <td>0.196541</td>\n",
       "      <td>-0.074462</td>\n",
       "      <td>0.044316</td>\n",
       "      <td>0.042531</td>\n",
       "    </tr>\n",
       "    <tr>\n",
       "      <th>[29]-[[]]</th>\n",
       "      <td>0.030529</td>\n",
       "      <td>-0.336294</td>\n",
       "      <td>0.072483</td>\n",
       "      <td>0.003304</td>\n",
       "      <td>-0.044316</td>\n",
       "      <td>-0.003485</td>\n",
       "    </tr>\n",
       "    <tr>\n",
       "      <th>[31]-[[]]</th>\n",
       "      <td>-0.030529</td>\n",
       "      <td>0.518014</td>\n",
       "      <td>0.190778</td>\n",
       "      <td>1.331558</td>\n",
       "      <td>0.048720</td>\n",
       "      <td>-0.016885</td>\n",
       "    </tr>\n",
       "    <tr>\n",
       "      <th>[34]-[[]]</th>\n",
       "      <td>-0.030529</td>\n",
       "      <td>-0.044929</td>\n",
       "      <td>-0.388256</td>\n",
       "      <td>0.195248</td>\n",
       "      <td>0.045288</td>\n",
       "      <td>0.392361</td>\n",
       "    </tr>\n",
       "  </tbody>\n",
       "</table>\n",
       "</div>"
      ],
      "text/plain": [
       "               bias  explanation.aid  explanation.dir  explanation.div  \\\n",
       "_rowName                                                                 \n",
       "[2]-[[]]  -0.030529         0.518014         0.190778         1.331558   \n",
       "[5]-[[]]  -0.030529         0.256754         0.303620         0.065486   \n",
       "[7]-[[]]  -0.030529         0.244593        -0.068111         0.236052   \n",
       "[8]-[[]]  -0.030529         0.518014         0.190778         1.331558   \n",
       "[11]-[[]] -0.030529         0.518014         0.190778         1.331558   \n",
       "[16]-[[]] -0.030529         0.336294        -0.072483        -0.003304   \n",
       "[18]-[[]] -0.030529         0.256754         0.196541        -0.074462   \n",
       "[29]-[[]]  0.030529        -0.336294         0.072483         0.003304   \n",
       "[31]-[[]] -0.030529         0.518014         0.190778         1.331558   \n",
       "[34]-[[]] -0.030529        -0.044929        -0.388256         0.195248   \n",
       "\n",
       "           explanation.title  explanation.year  \n",
       "_rowName                                        \n",
       "[2]-[[]]            0.048720         -0.016885  \n",
       "[5]-[[]]            0.044316          0.128941  \n",
       "[7]-[[]]            0.044316          0.003485  \n",
       "[8]-[[]]            0.048720         -0.016885  \n",
       "[11]-[[]]           0.048720         -0.016885  \n",
       "[16]-[[]]          -0.156613          0.003485  \n",
       "[18]-[[]]           0.044316          0.042531  \n",
       "[29]-[[]]          -0.044316         -0.003485  \n",
       "[31]-[[]]           0.048720         -0.016885  \n",
       "[34]-[[]]           0.045288          0.392361  "
      ]
     },
     "execution_count": 10,
     "metadata": {},
     "output_type": "execute_result"
    }
   ],
   "source": [
    "mldb.query(\"\"\"\n",
    "SELECT explain({features: {* EXCLUDING (amount, aboveAvg)}, label: aboveAvg}) AS *\n",
    "FROM (\n",
    "    SELECT Award.* AS *, Award.amount > amtavg AS aboveAvg FROM Award \n",
    "    INNER JOIN (\n",
    "        SELECT avg(amount) AS amtavg\n",
    "        FROM Award\n",
    "    )\n",
    ")\n",
    "WHERE rowHash() % 4 = 0\n",
    "LIMIT 10\n",
    "\"\"\")"
   ]
  },
  {
   "cell_type": "markdown",
   "metadata": {},
   "source": [
    "Or you can do the average on all the examples. Here we then transpose the result and sort it by the absolute value."
   ]
  },
  {
   "cell_type": "code",
   "execution_count": 11,
   "metadata": {
    "collapsed": false,
    "scrolled": false
   },
   "outputs": [
    {
     "data": {
      "text/html": [
       "<div>\n",
       "<table border=\"1\" class=\"dataframe\">\n",
       "  <thead>\n",
       "    <tr style=\"text-align: right;\">\n",
       "      <th></th>\n",
       "      <th>explanation</th>\n",
       "    </tr>\n",
       "    <tr>\n",
       "      <th>_rowName</th>\n",
       "      <th></th>\n",
       "    </tr>\n",
       "  </thead>\n",
       "  <tbody>\n",
       "    <tr>\n",
       "      <th>div</th>\n",
       "      <td>0.268783</td>\n",
       "    </tr>\n",
       "    <tr>\n",
       "      <th>aid</th>\n",
       "      <td>0.145859</td>\n",
       "    </tr>\n",
       "    <tr>\n",
       "      <th>dir</th>\n",
       "      <td>0.113124</td>\n",
       "    </tr>\n",
       "    <tr>\n",
       "      <th>title</th>\n",
       "      <td>0.039471</td>\n",
       "    </tr>\n",
       "    <tr>\n",
       "      <th>year</th>\n",
       "      <td>0.015672</td>\n",
       "    </tr>\n",
       "  </tbody>\n",
       "</table>\n",
       "</div>"
      ],
      "text/plain": [
       "          explanation\n",
       "_rowName             \n",
       "div          0.268783\n",
       "aid          0.145859\n",
       "dir          0.113124\n",
       "title        0.039471\n",
       "year         0.015672"
      ]
     },
     "execution_count": 11,
     "metadata": {},
     "output_type": "execute_result"
    }
   ],
   "source": [
    "mldb.query(\"\"\"\n",
    "SELECT *\n",
    "FROM transpose((\n",
    "    SELECT avg({explain({features: {* EXCLUDING (amount,aboveAvg)}, label: aboveAvg})[explanation] as *}) AS *\n",
    "    NAMED 'explanation'\n",
    "    FROM (\n",
    "        SELECT Award.* AS *, Award.amount > amtavg AS aboveAvg FROM Award \n",
    "        INNER JOIN (\n",
    "            SELECT avg(amount) AS amtavg\n",
    "            FROM Award\n",
    "        )\n",
    "    )\n",
    "    WHERE rowHash() % 4 = 0\n",
    "))\n",
    "ORDER BY abs(explanation) DESC\n",
    "\"\"\")"
   ]
  },
  {
   "cell_type": "markdown",
   "metadata": {},
   "source": [
    "Now what is striking here is that there are two features that really stand out: `div` and `dur`. These reprsent the Division and Directorate respectively. Since Divisions fall under Directorates, its not surprising to see both values up there since they are related to each other."
   ]
  },
  {
   "cell_type": "markdown",
   "metadata": {},
   "source": [
    "## Retraining Without the Biased Feature: `div`\n",
    "We can look at the effects of removing `div` by adding it to the excluded columns so that it is not used by the model.\n",
    "This allows us to identify other potential outliers and get a better understanding of our data."
   ]
  },
  {
   "cell_type": "code",
   "execution_count": 12,
   "metadata": {
    "collapsed": false
   },
   "outputs": [
    {
     "name": "stdout",
     "output_type": "stream",
     "text": [
      "<Response [201]>\n"
     ]
    }
   ],
   "source": [
    "print mldb.put('/v1/procedures/_', {\n",
    "    'type': 'classifier.train',\n",
    "    'params': {\n",
    "        'trainingData': \"\"\"\n",
    "        \n",
    "            SELECT {* EXCLUDING (amount, aboveAvg, dir)} AS features,\n",
    "                   aboveAvg AS label\n",
    "            FROM (\n",
    "                SELECT Award.* AS *, Award.amount > amtavg AS aboveAvg FROM Award \n",
    "                INNER JOIN (\n",
    "                    SELECT avg(amount) AS amtavg\n",
    "                    FROM Award\n",
    "                )\n",
    "            )\n",
    "            WHERE rowHash() % 4 != 0\n",
    "            \"\"\",\n",
    "        'modelFileUrl': 'file://award_model.cls',\n",
    "        'algorithm': 'bbdt',\n",
    "        'functionName': 'score',\n",
    "        'mode': 'boolean'\n",
    "        }\n",
    "    })"
   ]
  },
  {
   "cell_type": "code",
   "execution_count": 13,
   "metadata": {
    "collapsed": false,
    "scrolled": false
   },
   "outputs": [
    {
     "data": {
      "text/html": [
       "<strong>PUT http://localhost/v1/procedures/_</strong><br /><strong style=\"color: green;\">201 Created</strong><br /> <div class=\"highlight\"><pre style=\"line-height: 125%\"><span></span>{\n",
       "  <span style=\"color: #333333; font-weight: bold\">&quot;status&quot;</span>: {\n",
       "    <span style=\"color: #333333; font-weight: bold\">&quot;firstRun&quot;</span>: {\n",
       "      <span style=\"color: #333333; font-weight: bold\">&quot;runStarted&quot;</span>: <span style=\"color: #0000dd\">&quot;2017-05-13T22:04:24.1532307Z&quot;</span>, \n",
       "      <span style=\"color: #333333; font-weight: bold\">&quot;status&quot;</span>: {\n",
       "        <span style=\"color: #333333; font-weight: bold\">&quot;auc&quot;</span>: <span style=\"color: #0000dd\">0.7931733563107521</span>, \n",
       "        <span style=\"color: #333333; font-weight: bold\">&quot;bestMcc&quot;</span>: {\n",
       "          <span style=\"color: #333333; font-weight: bold\">&quot;pr&quot;</span>: {\n",
       "            <span style=\"color: #333333; font-weight: bold\">&quot;recall&quot;</span>: <span style=\"color: #0000dd\">0.8375690607734807</span>, \n",
       "            <span style=\"color: #333333; font-weight: bold\">&quot;f1Score&quot;</span>: <span style=\"color: #0000dd\">0.6018261214767765</span>, \n",
       "            <span style=\"color: #333333; font-weight: bold\">&quot;precision&quot;</span>: <span style=\"color: #0000dd\">0.4696406443618339</span>, \n",
       "            <span style=\"color: #333333; font-weight: bold\">&quot;accuracy&quot;</span>: <span style=\"color: #0000dd\">0.6827956989247311</span>\n",
       "          }, \n",
       "          <span style=\"color: #333333; font-weight: bold\">&quot;mcc&quot;</span>: <span style=\"color: #0000dd\">0.4143878325960217</span>, \n",
       "          <span style=\"color: #333333; font-weight: bold\">&quot;gain&quot;</span>: <span style=\"color: #0000dd\">1.640888085604552</span>, \n",
       "          <span style=\"color: #333333; font-weight: bold\">&quot;threshold&quot;</span>: <span style=\"color: #0000dd\">-0.2867357134819031</span>, \n",
       "          <span style=\"color: #333333; font-weight: bold\">&quot;counts&quot;</span>: {\n",
       "            <span style=\"color: #333333; font-weight: bold\">&quot;falseNegatives&quot;</span>: <span style=\"color: #0000dd\">147.0</span>, \n",
       "            <span style=\"color: #333333; font-weight: bold\">&quot;truePositives&quot;</span>: <span style=\"color: #0000dd\">758.0</span>, \n",
       "            <span style=\"color: #333333; font-weight: bold\">&quot;trueNegatives&quot;</span>: <span style=\"color: #0000dd\">1401.0</span>, \n",
       "            <span style=\"color: #333333; font-weight: bold\">&quot;falsePositives&quot;</span>: <span style=\"color: #0000dd\">856.0</span>\n",
       "          }, \n",
       "          <span style=\"color: #333333; font-weight: bold\">&quot;population&quot;</span>: {\n",
       "            <span style=\"color: #333333; font-weight: bold\">&quot;included&quot;</span>: <span style=\"color: #0000dd\">1614.0</span>, \n",
       "            <span style=\"color: #333333; font-weight: bold\">&quot;excluded&quot;</span>: <span style=\"color: #0000dd\">1548.0</span>\n",
       "          }\n",
       "        }, \n",
       "        <span style=\"color: #333333; font-weight: bold\">&quot;bestF1Score&quot;</span>: {\n",
       "          <span style=\"color: #333333; font-weight: bold\">&quot;pr&quot;</span>: {\n",
       "            <span style=\"color: #333333; font-weight: bold\">&quot;recall&quot;</span>: <span style=\"color: #0000dd\">0.8220994475138121</span>, \n",
       "            <span style=\"color: #333333; font-weight: bold\">&quot;f1Score&quot;</span>: <span style=\"color: #0000dd\">0.6021853500607042</span>, \n",
       "            <span style=\"color: #333333; font-weight: bold\">&quot;precision&quot;</span>: <span style=\"color: #0000dd\">0.475095785440613</span>, \n",
       "            <span style=\"color: #333333; font-weight: bold\">&quot;accuracy&quot;</span>: <span style=\"color: #0000dd\">0.6891208096141682</span>\n",
       "          }, \n",
       "          <span style=\"color: #333333; font-weight: bold\">&quot;mcc&quot;</span>: <span style=\"color: #0000dd\">0.4139497400094144</span>, \n",
       "          <span style=\"color: #333333; font-weight: bold\">&quot;gain&quot;</span>: <span style=\"color: #0000dd\">1.659947926589192</span>, \n",
       "          <span style=\"color: #333333; font-weight: bold\">&quot;threshold&quot;</span>: <span style=\"color: #0000dd\">-0.2664710581302643</span>, \n",
       "          <span style=\"color: #333333; font-weight: bold\">&quot;counts&quot;</span>: {\n",
       "            <span style=\"color: #333333; font-weight: bold\">&quot;falseNegatives&quot;</span>: <span style=\"color: #0000dd\">161.0</span>, \n",
       "            <span style=\"color: #333333; font-weight: bold\">&quot;truePositives&quot;</span>: <span style=\"color: #0000dd\">744.0</span>, \n",
       "            <span style=\"color: #333333; font-weight: bold\">&quot;trueNegatives&quot;</span>: <span style=\"color: #0000dd\">1435.0</span>, \n",
       "            <span style=\"color: #333333; font-weight: bold\">&quot;falsePositives&quot;</span>: <span style=\"color: #0000dd\">822.0</span>\n",
       "          }, \n",
       "          <span style=\"color: #333333; font-weight: bold\">&quot;population&quot;</span>: {\n",
       "            <span style=\"color: #333333; font-weight: bold\">&quot;included&quot;</span>: <span style=\"color: #0000dd\">1566.0</span>, \n",
       "            <span style=\"color: #333333; font-weight: bold\">&quot;excluded&quot;</span>: <span style=\"color: #0000dd\">1596.0</span>\n",
       "          }\n",
       "        }\n",
       "      }, \n",
       "      <span style=\"color: #333333; font-weight: bold\">&quot;runFinished&quot;</span>: <span style=\"color: #0000dd\">&quot;2017-05-13T22:04:24.4298925Z&quot;</span>, \n",
       "      <span style=\"color: #333333; font-weight: bold\">&quot;id&quot;</span>: <span style=\"color: #0000dd\">&quot;2017-05-13T22:04:24.153172Z-463496b56263af05&quot;</span>, \n",
       "      <span style=\"color: #333333; font-weight: bold\">&quot;state&quot;</span>: <span style=\"color: #0000dd\">&quot;finished&quot;</span>\n",
       "    }\n",
       "  }, \n",
       "  <span style=\"color: #333333; font-weight: bold\">&quot;config&quot;</span>: {\n",
       "    <span style=\"color: #333333; font-weight: bold\">&quot;params&quot;</span>: {\n",
       "      <span style=\"color: #333333; font-weight: bold\">&quot;outputDataset&quot;</span>: <span style=\"color: #0000dd\">&quot;award_test&quot;</span>, \n",
       "      <span style=\"color: #333333; font-weight: bold\">&quot;mode&quot;</span>: <span style=\"color: #0000dd\">&quot;boolean&quot;</span>, \n",
       "      <span style=\"color: #333333; font-weight: bold\">&quot;testingData&quot;</span>: <span style=\"color: #0000dd\">&quot;\\n            SELECT score: score({features: {* EXCLUDING (aboveAvg, dir)}})[score], label: aboveAvg\\n            FROM (\\n                SELECT Award.* AS *, Award.amount &gt; amtavg AS aboveAvg FROM Award \\n                INNER JOIN (\\n                    SELECT avg(amount) AS amtavg\\n                    FROM Award\\n                )\\n            )\\n            WHERE rowHash() % 4 = 0\\n            &quot;</span>\n",
       "    }, \n",
       "    <span style=\"color: #333333; font-weight: bold\">&quot;type&quot;</span>: <span style=\"color: #0000dd\">&quot;classifier.test&quot;</span>, \n",
       "    <span style=\"color: #333333; font-weight: bold\">&quot;id&quot;</span>: <span style=\"color: #0000dd\">&quot;_&quot;</span>\n",
       "  }, \n",
       "  <span style=\"color: #333333; font-weight: bold\">&quot;state&quot;</span>: <span style=\"color: #0000dd\">&quot;ok&quot;</span>, \n",
       "  <span style=\"color: #333333; font-weight: bold\">&quot;type&quot;</span>: <span style=\"color: #0000dd\">&quot;classifier.test&quot;</span>, \n",
       "  <span style=\"color: #333333; font-weight: bold\">&quot;id&quot;</span>: <span style=\"color: #0000dd\">&quot;_&quot;</span>\n",
       "}\n",
       "</pre></div>\n"
      ],
      "text/plain": [
       "<Response [201]>"
      ]
     },
     "execution_count": 13,
     "metadata": {},
     "output_type": "execute_result"
    }
   ],
   "source": [
    "mldb.put('/v1/procedures/_', {\n",
    "    'type': 'classifier.test',\n",
    "    'params': {\n",
    "        'testingData': \"\"\"\n",
    "            SELECT score: score({features: {* EXCLUDING (aboveAvg, dir)}})[score], label: aboveAvg\n",
    "            FROM (\n",
    "                SELECT Award.* AS *, Award.amount > amtavg AS aboveAvg FROM Award \n",
    "                INNER JOIN (\n",
    "                    SELECT avg(amount) AS amtavg\n",
    "                    FROM Award\n",
    "                )\n",
    "            )\n",
    "            WHERE rowHash() % 4 = 0\n",
    "            \"\"\",\n",
    "        'outputDataset': 'award_test',\n",
    "        'mode': 'boolean'\n",
    "        }\n",
    "    })"
   ]
  },
  {
   "cell_type": "markdown",
   "metadata": {},
   "source": [
    "TODO: AUC of .79\n",
    "\n",
    "If we run the explanation again, the highest ranking features seem more legitimate."
   ]
  },
  {
   "cell_type": "code",
   "execution_count": 14,
   "metadata": {
    "collapsed": false
   },
   "outputs": [
    {
     "name": "stdout",
     "output_type": "stream",
     "text": [
      "<Response [201]>\n"
     ]
    }
   ],
   "source": [
    "print mldb.put('/v1/functions/explain', {\n",
    "    'type': 'classifier.explain',\n",
    "    'params': {\n",
    "        'modelFileUrl': 'file://award_model.cls'\n",
    "        }\n",
    "    })"
   ]
  },
  {
   "cell_type": "code",
   "execution_count": 15,
   "metadata": {
    "collapsed": false,
    "scrolled": false
   },
   "outputs": [
    {
     "data": {
      "text/html": [
       "<div>\n",
       "<table border=\"1\" class=\"dataframe\">\n",
       "  <thead>\n",
       "    <tr style=\"text-align: right;\">\n",
       "      <th></th>\n",
       "      <th>explanation</th>\n",
       "    </tr>\n",
       "    <tr>\n",
       "      <th>_rowName</th>\n",
       "      <th></th>\n",
       "    </tr>\n",
       "  </thead>\n",
       "  <tbody>\n",
       "    <tr>\n",
       "      <th>div</th>\n",
       "      <td>0.278097</td>\n",
       "    </tr>\n",
       "    <tr>\n",
       "      <th>aid</th>\n",
       "      <td>0.154999</td>\n",
       "    </tr>\n",
       "    <tr>\n",
       "      <th>title</th>\n",
       "      <td>0.029704</td>\n",
       "    </tr>\n",
       "    <tr>\n",
       "      <th>year</th>\n",
       "      <td>0.009421</td>\n",
       "    </tr>\n",
       "  </tbody>\n",
       "</table>\n",
       "</div>"
      ],
      "text/plain": [
       "          explanation\n",
       "_rowName             \n",
       "div          0.278097\n",
       "aid          0.154999\n",
       "title        0.029704\n",
       "year         0.009421"
      ]
     },
     "execution_count": 15,
     "metadata": {},
     "output_type": "execute_result"
    }
   ],
   "source": [
    "mldb.query(\"\"\"\n",
    "SELECT *\n",
    "FROM transpose((\n",
    "    SELECT avg({explain({features: {* EXCLUDING (aboveAvg, dir)}, label: aboveAvg})[explanation] as *}) AS *\n",
    "    NAMED 'explanation'\n",
    "    FROM (\n",
    "        SELECT Award.* AS *, Award.amount > amtavg AS aboveAvg FROM Award \n",
    "        INNER JOIN (\n",
    "            SELECT avg(amount) AS amtavg\n",
    "            FROM Award\n",
    "        )\n",
    "    )\n",
    "    WHERE rowHash() % 4 = 0\n",
    "))\n",
    "ORDER BY abs(explanation) DESC\n",
    "\"\"\")"
   ]
  },
  {
   "cell_type": "markdown",
   "metadata": {},
   "source": [
    "## Conclusion\n",
    "TODO\n"
   ]
  },
  {
   "cell_type": "code",
   "execution_count": null,
   "metadata": {
    "collapsed": true
   },
   "outputs": [],
   "source": []
  }
 ],
 "metadata": {
  "kernelspec": {
   "display_name": "Python 2",
   "language": "python",
   "name": "python2"
  },
  "language_info": {
   "codemirror_mode": {
    "name": "ipython",
    "version": 2
   },
   "file_extension": ".py",
   "mimetype": "text/x-python",
   "name": "python",
   "nbconvert_exporter": "python",
   "pygments_lexer": "ipython2",
   "version": "2.7.6"
  }
 },
 "nbformat": 4,
 "nbformat_minor": 0
}
